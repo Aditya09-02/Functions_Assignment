{
  "nbformat": 4,
  "nbformat_minor": 0,
  "metadata": {
    "colab": {
      "provenance": []
    },
    "kernelspec": {
      "name": "python3",
      "display_name": "Python 3"
    },
    "language_info": {
      "name": "python"
    }
  },
  "cells": [
    {
      "cell_type": "markdown",
      "source": [
        "Q1. Write a Python function that takes a list of numbers as input and returns the sum of all even numbers in\n",
        "the list ?"
      ],
      "metadata": {
        "id": "e_06X4usUIoI"
      }
    },
    {
      "cell_type": "code",
      "source": [
        "#Ans.\n",
        "\n",
        "def sum_of_evens(numbers):\n",
        "    \"\"\"Returns the sum of all even numbers in the list.\"\"\"\n",
        "    return sum(num for num in numbers if num % 2 == 0)\n",
        "\n",
        "# Example usage\n",
        "numbers = [17]  # List containing only one odd number\n",
        "result = sum_of_evens(numbers)\n",
        "print(result)  # Output: 0 (since there are no even numbers)\n"
      ],
      "metadata": {
        "colab": {
          "base_uri": "https://localhost:8080/"
        },
        "id": "J2Lny-mOYQJO",
        "outputId": "5a71d432-c197-4d70-e773-47a46c4cbbaa"
      },
      "execution_count": 20,
      "outputs": [
        {
          "output_type": "stream",
          "name": "stdout",
          "text": [
            "0\n"
          ]
        }
      ]
    },
    {
      "cell_type": "markdown",
      "source": [
        "Q2. Create a Python function that accepts a string and returns the reverse of that string.\n",
        "\n",
        "\n"
      ],
      "metadata": {
        "id": "MHR0ki7PVy-Q"
      }
    },
    {
      "cell_type": "code",
      "source": [],
      "metadata": {
        "id": "8ZBWuNE7Ytc7"
      },
      "execution_count": null,
      "outputs": []
    },
    {
      "cell_type": "code",
      "source": [
        "#Ans.\n",
        "\n",
        "def reverse_string(s):\n",
        "    \"\"\"Returns the reverse of the given string.\"\"\"\n",
        "    return s[::-1]  # Slicing method to reverse the string\n",
        "\n",
        "# Example usage\n",
        "text = \"hello\"\n",
        "result = reverse_string(text)\n",
        "print(result)  # Output: \"olleh\""
      ],
      "metadata": {
        "colab": {
          "base_uri": "https://localhost:8080/"
        },
        "id": "Wx_3UwtbV3bw",
        "outputId": "67fbe96b-fead-489c-fe00-8aff2d3be1ed"
      },
      "execution_count": 7,
      "outputs": [
        {
          "output_type": "stream",
          "name": "stdout",
          "text": [
            "olleh\n"
          ]
        }
      ]
    },
    {
      "cell_type": "markdown",
      "source": [
        "Q3. Implement a Python function that takes a list of integers and returns a new list containing the squares of each number ?\n"
      ],
      "metadata": {
        "id": "ObaM8_YVWB04"
      }
    },
    {
      "cell_type": "code",
      "source": [
        "#Ans.\n",
        "\n",
        "def square_numbers(numbers):\n",
        "    \"\"\"Returns a new list with the squares of each number.\"\"\"\n",
        "    return [num ** 2 for num in numbers]  # List comprehension\n",
        "\n",
        "# Example usage\n",
        "numbers = [1, 2, 3, 4, 5]\n",
        "result = square_numbers(numbers)\n",
        "print(result)  # Output: [1, 4, 9, 16, 25]"
      ],
      "metadata": {
        "colab": {
          "base_uri": "https://localhost:8080/"
        },
        "id": "5XmLVHbHWH7H",
        "outputId": "c4976358-5685-429e-fd46-9db9b9907334"
      },
      "execution_count": 8,
      "outputs": [
        {
          "output_type": "stream",
          "name": "stdout",
          "text": [
            "[1, 4, 9, 16, 25]\n"
          ]
        }
      ]
    },
    {
      "cell_type": "code",
      "source": [],
      "metadata": {
        "id": "Xwj5GassUqe5"
      },
      "execution_count": null,
      "outputs": []
    },
    {
      "cell_type": "markdown",
      "source": [
        "Q4.  Write a Python function that checks if a given number is prime or not from 1 to 200 ?"
      ],
      "metadata": {
        "id": "wfX8JuCiWQeX"
      }
    },
    {
      "cell_type": "code",
      "source": [
        "#Ans.\n",
        "\n",
        "def is_prime(n):\n",
        "    \"\"\"Checks if a number is prime.\"\"\"\n",
        "    if n < 2:\n",
        "        return False\n",
        "    for i in range(2, int(n ** 0.5) + 1):\n",
        "        if n % i == 0:\n",
        "            return False\n",
        "    return True\n",
        "\n",
        "# Example usage: Check prime numbers from 1 to 200\n",
        "primes = [num for num in range(1, 201) if is_prime(num)]\n",
        "print(primes)"
      ],
      "metadata": {
        "colab": {
          "base_uri": "https://localhost:8080/"
        },
        "id": "bIvroRqVWc4v",
        "outputId": "b9e47ece-5996-4cdc-a4a8-bb0a0fc60518"
      },
      "execution_count": 9,
      "outputs": [
        {
          "output_type": "stream",
          "name": "stdout",
          "text": [
            "[2, 3, 5, 7, 11, 13, 17, 19, 23, 29, 31, 37, 41, 43, 47, 53, 59, 61, 67, 71, 73, 79, 83, 89, 97, 101, 103, 107, 109, 113, 127, 131, 137, 139, 149, 151, 157, 163, 167, 173, 179, 181, 191, 193, 197, 199]\n"
          ]
        }
      ]
    },
    {
      "cell_type": "markdown",
      "source": [
        "Q5. Create an iterator class in Python that generates the Fibonacci sequence up to a specified number of terms ?\n",
        "\n",
        "\n"
      ],
      "metadata": {
        "id": "lrSWZASbWg8X"
      }
    },
    {
      "cell_type": "code",
      "source": [
        "#Ans.\n",
        "\n",
        "class FibonacciIterator:\n",
        "    \"\"\"Iterator for Fibonacci sequence up to n terms.\"\"\"\n",
        "    def __init__(self, n):\n",
        "        self.n = n  # Number of terms\n",
        "        self.a, self.b = 0, 1  # First two Fibonacci numbers\n",
        "        self.count = 0  # Counter to track iterations\n",
        "\n",
        "    def __iter__(self):\n",
        "        return self  # Returns the iterator itself\n",
        "\n",
        "    def __next__(self):\n",
        "        if self.count >= self.n:\n",
        "            raise StopIteration  # Stop when n terms are reached\n",
        "\n",
        "        fib_number = self.a\n",
        "        self.a, self.b = self.b, self.a + self.b  # Update Fibonacci numbers\n",
        "        self.count += 1\n",
        "        return fib_number\n",
        "\n",
        "# Example usage\n",
        "fib_iterator = FibonacciIterator(10)  # Generate first 10 Fibonacci numbers\n",
        "for num in fib_iterator:\n",
        "    print(num, end=\" \")  # Output: 0 1 1 2 3 5 8 13 21 34\n"
      ],
      "metadata": {
        "colab": {
          "base_uri": "https://localhost:8080/"
        },
        "id": "AxqU6s9RWpP1",
        "outputId": "03122dd5-1dab-4b40-9c4a-4cfee6cbe47c"
      },
      "execution_count": 10,
      "outputs": [
        {
          "output_type": "stream",
          "name": "stdout",
          "text": [
            "0 1 1 2 3 5 8 13 21 34 "
          ]
        }
      ]
    },
    {
      "cell_type": "markdown",
      "source": [
        "Q6. Write a generator function in Python that yields the powers of 2 up to a given exponent ?"
      ],
      "metadata": {
        "id": "ais6Pq9VW5zu"
      }
    },
    {
      "cell_type": "code",
      "source": [
        "#Ans.\n",
        "\n",
        "def powers_of_two(exponent):\n",
        "    \"\"\"Yields powers of 2 up to 2^exponent.\"\"\"\n",
        "    for i in range(exponent + 1):\n",
        "        yield 2 ** i  # Yielding each power of 2\n",
        "\n",
        "# Example usage\n",
        "for power in powers_of_two(5):\n",
        "    print(power, end=\" \")  # Output: 1 2 4 8 16 32"
      ],
      "metadata": {
        "colab": {
          "base_uri": "https://localhost:8080/"
        },
        "id": "bHnrExI4XExu",
        "outputId": "c8beca45-40de-4abb-8041-1defe6e9c9f7"
      },
      "execution_count": 11,
      "outputs": [
        {
          "output_type": "stream",
          "name": "stdout",
          "text": [
            "1 2 4 8 16 32 "
          ]
        }
      ]
    },
    {
      "cell_type": "code",
      "source": [],
      "metadata": {
        "id": "ZTjt3yUEXvPm"
      },
      "execution_count": null,
      "outputs": []
    },
    {
      "cell_type": "markdown",
      "source": [
        "Q7.  Implement a generator function that reads a file line by line and yields each line as a string?"
      ],
      "metadata": {
        "id": "yKLMXYjqXLyW"
      }
    },
    {
      "cell_type": "code",
      "source": [
        "#Ans.\n",
        "\n",
        "def file_reader(filename):\n",
        "    \"\"\"Reads a file line by line and yields each line.\"\"\"\n",
        "    try:\n",
        "        with open(filename, 'r') as file:\n",
        "            for line in file:\n",
        "                yield line.strip()  # Yield each line after removing leading/trailing whitespace\n",
        "    except FileNotFoundError:\n",
        "        print(f\"Error: File '{filename}' not found.\")\n",
        "        return  # or raise the exception if you want to handle it differently"
      ],
      "metadata": {
        "colab": {
          "base_uri": "https://localhost:8080/",
          "height": 315
        },
        "id": "3VZy_ui_ZF3F",
        "outputId": "829526c0-6ea3-4849-c9f0-46599e9bfa22"
      },
      "execution_count": 26,
      "outputs": [
        {
          "output_type": "error",
          "ename": "FileNotFoundError",
          "evalue": "[Errno 2] No such file or directory: 'example.txt'",
          "traceback": [
            "\u001b[0;31m---------------------------------------------------------------------------\u001b[0m",
            "\u001b[0;31mFileNotFoundError\u001b[0m                         Traceback (most recent call last)",
            "\u001b[0;32m<ipython-input-26-ffaf9fbf01f1>\u001b[0m in \u001b[0;36m<cell line: 0>\u001b[0;34m()\u001b[0m\n\u001b[1;32m     13\u001b[0m \u001b[0;31m# Example usage\u001b[0m\u001b[0;34m\u001b[0m\u001b[0;34m\u001b[0m\u001b[0m\n\u001b[1;32m     14\u001b[0m \u001b[0mfile_path\u001b[0m \u001b[0;34m=\u001b[0m \u001b[0;34m\"example.txt\"\u001b[0m  \u001b[0;31m# Replace with your file path\u001b[0m\u001b[0;34m\u001b[0m\u001b[0;34m\u001b[0m\u001b[0m\n\u001b[0;32m---> 15\u001b[0;31m \u001b[0;32mfor\u001b[0m \u001b[0mline\u001b[0m \u001b[0;32min\u001b[0m \u001b[0mread_file_line_by_line\u001b[0m\u001b[0;34m(\u001b[0m\u001b[0mfile_path\u001b[0m\u001b[0;34m)\u001b[0m\u001b[0;34m:\u001b[0m\u001b[0;34m\u001b[0m\u001b[0;34m\u001b[0m\u001b[0m\n\u001b[0m\u001b[1;32m     16\u001b[0m     \u001b[0mprint\u001b[0m\u001b[0;34m(\u001b[0m\u001b[0mline\u001b[0m\u001b[0;34m)\u001b[0m  \u001b[0;31m# Prints each line from the file\u001b[0m\u001b[0;34m\u001b[0m\u001b[0;34m\u001b[0m\u001b[0m\n",
            "\u001b[0;32m<ipython-input-13-676ab6964c39>\u001b[0m in \u001b[0;36mread_file_line_by_line\u001b[0;34m(file_path)\u001b[0m\n\u001b[1;32m      2\u001b[0m \u001b[0;34m\u001b[0m\u001b[0m\n\u001b[1;32m      3\u001b[0m \u001b[0;32mdef\u001b[0m \u001b[0mread_file_line_by_line\u001b[0m\u001b[0;34m(\u001b[0m\u001b[0mfile_path\u001b[0m\u001b[0;34m)\u001b[0m\u001b[0;34m:\u001b[0m\u001b[0;34m\u001b[0m\u001b[0;34m\u001b[0m\u001b[0m\n\u001b[0;32m----> 4\u001b[0;31m  \u001b[0;32mwith\u001b[0m \u001b[0mopen\u001b[0m\u001b[0;34m(\u001b[0m\u001b[0mfile_path\u001b[0m\u001b[0;34m,\u001b[0m \u001b[0;34m'r'\u001b[0m\u001b[0;34m)\u001b[0m \u001b[0;32mas\u001b[0m \u001b[0mfile\u001b[0m\u001b[0;34m:\u001b[0m\u001b[0;34m\u001b[0m\u001b[0;34m\u001b[0m\u001b[0m\n\u001b[0m\u001b[1;32m      5\u001b[0m         \u001b[0;32mfor\u001b[0m \u001b[0mline\u001b[0m \u001b[0;32min\u001b[0m \u001b[0mfile\u001b[0m\u001b[0;34m:\u001b[0m\u001b[0;34m\u001b[0m\u001b[0;34m\u001b[0m\u001b[0m\n\u001b[1;32m      6\u001b[0m             \u001b[0;32myield\u001b[0m \u001b[0mline\u001b[0m\u001b[0;34m.\u001b[0m\u001b[0mstrip\u001b[0m\u001b[0;34m(\u001b[0m\u001b[0;34m)\u001b[0m  \u001b[0;31m# Yielding each line without trailing newline\u001b[0m\u001b[0;34m\u001b[0m\u001b[0;34m\u001b[0m\u001b[0m\n",
            "\u001b[0;31mFileNotFoundError\u001b[0m: [Errno 2] No such file or directory: 'example.txt'"
          ]
        }
      ]
    },
    {
      "cell_type": "markdown",
      "source": [
        "Q8. Use a lambda function in Python to sort a list of tuples based on the second element of each tuple ?"
      ],
      "metadata": {
        "id": "M1YM15CsZwfE"
      }
    },
    {
      "cell_type": "code",
      "source": [
        "#Ans.\n",
        "\n",
        "# List of tuples\n",
        "tuples_list = [(1, 3), (4, 1), (2, 2), (5, 0)]\n",
        "\n",
        "# Sorting based on the second element of each tuple\n",
        "sorted_list = sorted(tuples_list, key=lambda x: x[1])\n",
        "\n",
        "print(sorted_list)  # Output: [(5, 0), (4, 1), (2, 2), (1, 3)]"
      ],
      "metadata": {
        "colab": {
          "base_uri": "https://localhost:8080/"
        },
        "id": "oBSHR9K8Z1H0",
        "outputId": "0c940a8f-dc6f-4319-874a-fcc7572c7b4a"
      },
      "execution_count": 28,
      "outputs": [
        {
          "output_type": "stream",
          "name": "stdout",
          "text": [
            "[(5, 0), (4, 1), (2, 2), (1, 3)]\n"
          ]
        }
      ]
    },
    {
      "cell_type": "markdown",
      "source": [
        "Q9. Write a Python program that uses `map()` to convert a list of temperatures from Celsius to Fahrenheit ?"
      ],
      "metadata": {
        "id": "AW2l7IFNZ9-M"
      }
    },
    {
      "cell_type": "code",
      "source": [
        "#Ans.\n",
        "\n",
        "# Function to convert Celsius to Fahrenheit\n",
        "def celsius_to_fahrenheit(c):\n",
        "    return (c * 9/5) + 32\n",
        "\n",
        "# List of temperatures in Celsius\n",
        "celsius_temps = [0, 20, 37, 100]\n",
        "\n",
        "# Using map() to convert to Fahrenheit\n",
        "fahrenheit_temps = list(map(celsius_to_fahrenheit, celsius_temps))\n",
        "\n",
        "print(fahrenheit_temps)  # Output: [32.0, 68.0, 98.6, 212.0]"
      ],
      "metadata": {
        "colab": {
          "base_uri": "https://localhost:8080/"
        },
        "id": "53Mkg8ZcaCCM",
        "outputId": "73ede6fb-c1e6-4e00-eceb-f143e2996962"
      },
      "execution_count": 29,
      "outputs": [
        {
          "output_type": "stream",
          "name": "stdout",
          "text": [
            "[32.0, 68.0, 98.6, 212.0]\n"
          ]
        }
      ]
    },
    {
      "cell_type": "markdown",
      "source": [
        "Q10. Create a Python program that uses `filter()` to remove all the vowels from a given string ?"
      ],
      "metadata": {
        "id": "T4nr_Z8saJro"
      }
    },
    {
      "cell_type": "code",
      "source": [
        "#Ans.\n",
        "\n",
        "def remove_vowels(string):\n",
        "    \"\"\"Removes all vowels from the given string.\"\"\"\n",
        "    vowels = \"aeiouAEIOU\"\n",
        "    return \"\".join(filter(lambda char: char not in vowels, string))\n",
        "\n",
        "# Example usage\n",
        "text = \"Hello, World!\"\n",
        "result = remove_vowels(text)\n",
        "print(result)  # Output: \"Hll, Wrld!\""
      ],
      "metadata": {
        "colab": {
          "base_uri": "https://localhost:8080/"
        },
        "id": "fRmrPw4kaOcL",
        "outputId": "baddeb5b-e62b-4802-c795-7038f7d84266"
      },
      "execution_count": 30,
      "outputs": [
        {
          "output_type": "stream",
          "name": "stdout",
          "text": [
            "Hll, Wrld!\n"
          ]
        }
      ]
    },
    {
      "cell_type": "markdown",
      "source": [
        "Q11. Imagine an accounting routine used in a book shop. It works on a list with sublists, which look like this:"
      ],
      "metadata": {
        "id": "nTRZIZguaWbc"
      }
    },
    {
      "cell_type": "code",
      "source": [
        "#Ans.\n",
        "\n",
        "# Given list of book orders (Order Number, Book Title, Quantity, Price per Item)\n",
        "orders = [\n",
        "    (34587, \"Learning Python, Mark Lutz\", 4, 40.95),\n",
        "    (98762, \"Programming Python, Mark Lutz\", 5, 56.80),\n",
        "    (77226, \"Head First Python, Paul Barry\", 3, 32.95),\n",
        "    (88112, \"Einführung in Python3, Bernd Klein\", 3, 24.99)\n",
        "]\n",
        "\n",
        "# Using map() and lambda function to process the orders\n",
        "processed_orders = list(map(lambda order: (order[0],\n",
        "                                           order[2] * order[3] + (10 if order[2] * order[3] < 100 else 0)),\n",
        "                            orders))\n",
        "\n",
        "# Printing the result\n",
        "print(processed_orders)"
      ],
      "metadata": {
        "colab": {
          "base_uri": "https://localhost:8080/"
        },
        "id": "lRFmT_1ShJVV",
        "outputId": "75a821f7-68db-4825-dab6-4fcfc2167f6a"
      },
      "execution_count": 31,
      "outputs": [
        {
          "output_type": "stream",
          "name": "stdout",
          "text": [
            "[(34587, 163.8), (98762, 284.0), (77226, 108.85000000000001), (88112, 84.97)]\n"
          ]
        }
      ]
    },
    {
      "cell_type": "code",
      "source": [],
      "metadata": {
        "id": "O1zw1aHhhQZg"
      },
      "execution_count": null,
      "outputs": []
    }
  ]
}